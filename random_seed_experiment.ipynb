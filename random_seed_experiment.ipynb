{
  "nbformat": 4,
  "nbformat_minor": 0,
  "metadata": {
    "colab": {
      "name": "random_seed_experiment.ipynb",
      "provenance": [],
      "authorship_tag": "ABX9TyPMIl1wWSprDpiDGYeKRl37",
      "include_colab_link": true
    },
    "kernelspec": {
      "name": "python3",
      "display_name": "Python 3"
    }
  },
  "cells": [
    {
      "cell_type": "markdown",
      "metadata": {
        "id": "view-in-github",
        "colab_type": "text"
      },
      "source": [
        "<a href=\"https://colab.research.google.com/github/si1242/machine_leraning_experiments/blob/master/random_seed_experiment.ipynb\" target=\"_parent\"><img src=\"https://colab.research.google.com/assets/colab-badge.svg\" alt=\"Open In Colab\"/></a>"
      ]
    },
    {
      "cell_type": "markdown",
      "metadata": {
        "id": "KytYpTcheAma",
        "colab_type": "text"
      },
      "source": [
        "# A Simple experiment for ML Random Seed\n"
      ]
    },
    {
      "cell_type": "code",
      "metadata": {
        "id": "ZG5gaZNMd-ud",
        "colab_type": "code",
        "colab": {}
      },
      "source": [
        "import numpy as np\n",
        "import pandas as pd"
      ],
      "execution_count": 0,
      "outputs": []
    },
    {
      "cell_type": "code",
      "metadata": {
        "id": "cPDuhxUsern5",
        "colab_type": "code",
        "colab": {}
      },
      "source": [
        "# fix Numpy seed\n",
        "np.random.seed(42)"
      ],
      "execution_count": 0,
      "outputs": []
    },
    {
      "cell_type": "markdown",
      "metadata": {
        "id": "kv-VZgBUfkIr",
        "colab_type": "text"
      },
      "source": [
        "## You need to fix seed again after execute np.random method"
      ]
    },
    {
      "cell_type": "code",
      "metadata": {
        "id": "U5QKo6Dce1Pv",
        "colab_type": "code",
        "colab": {
          "base_uri": "https://localhost:8080/",
          "height": 34
        },
        "outputId": "d32c0cb0-c4a8-423c-ad3c-c12df6a59007"
      },
      "source": [
        "print(np.random.randint(0, 1000, 10))"
      ],
      "execution_count": 4,
      "outputs": [
        {
          "output_type": "stream",
          "text": [
            "[102 435 860 270 106  71 700  20 614 121]\n"
          ],
          "name": "stdout"
        }
      ]
    },
    {
      "cell_type": "code",
      "metadata": {
        "id": "8RlFJErifGDs",
        "colab_type": "code",
        "colab": {
          "base_uri": "https://localhost:8080/",
          "height": 34
        },
        "outputId": "591e5197-1bbc-43fb-a0c3-75f1150cea90"
      },
      "source": [
        "print(np.random.randint(0, 1000, 10))"
      ],
      "execution_count": 5,
      "outputs": [
        {
          "output_type": "stream",
          "text": [
            "[466 214 330 458  87 372  99 871 663 130]\n"
          ],
          "name": "stdout"
        }
      ]
    },
    {
      "cell_type": "code",
      "metadata": {
        "id": "YMeN0eCSfH0-",
        "colab_type": "code",
        "colab": {
          "base_uri": "https://localhost:8080/",
          "height": 34
        },
        "outputId": "91fee518-24b0-40b7-c325-123a47a553e4"
      },
      "source": [
        "# You need to fix seed again after np.random method\n",
        "np.random.seed(42)\n",
        "print(np.random.randint(0, 1000, 10))"
      ],
      "execution_count": 7,
      "outputs": [
        {
          "output_type": "stream",
          "text": [
            "[102 435 860 270 106  71 700  20 614 121]\n"
          ],
          "name": "stdout"
        }
      ]
    },
    {
      "cell_type": "markdown",
      "metadata": {
        "id": "gPjmhtTdgnH6",
        "colab_type": "text"
      },
      "source": [
        "## In Pandas, you need to set the seed value each time"
      ]
    },
    {
      "cell_type": "code",
      "metadata": {
        "id": "kIYuBDHofbAx",
        "colab_type": "code",
        "colab": {
          "base_uri": "https://localhost:8080/",
          "height": 173
        },
        "outputId": "aad88e06-cfe4-40c1-ab34-177404417fd8"
      },
      "source": [
        "df = pd.DataFrame({'num_legs': [2, 4, 8, 0],\n",
        "                   'num_wings': [2, 0, 0, 0],\n",
        "                   'num_specimen_seen': [10, 2, 1, 8]},\n",
        "                  index=['falcon', 'dog', 'spider', 'fish'])\n",
        "df"
      ],
      "execution_count": 19,
      "outputs": [
        {
          "output_type": "execute_result",
          "data": {
            "text/html": [
              "<div>\n",
              "<style scoped>\n",
              "    .dataframe tbody tr th:only-of-type {\n",
              "        vertical-align: middle;\n",
              "    }\n",
              "\n",
              "    .dataframe tbody tr th {\n",
              "        vertical-align: top;\n",
              "    }\n",
              "\n",
              "    .dataframe thead th {\n",
              "        text-align: right;\n",
              "    }\n",
              "</style>\n",
              "<table border=\"1\" class=\"dataframe\">\n",
              "  <thead>\n",
              "    <tr style=\"text-align: right;\">\n",
              "      <th></th>\n",
              "      <th>num_legs</th>\n",
              "      <th>num_wings</th>\n",
              "      <th>num_specimen_seen</th>\n",
              "    </tr>\n",
              "  </thead>\n",
              "  <tbody>\n",
              "    <tr>\n",
              "      <th>falcon</th>\n",
              "      <td>2</td>\n",
              "      <td>2</td>\n",
              "      <td>10</td>\n",
              "    </tr>\n",
              "    <tr>\n",
              "      <th>dog</th>\n",
              "      <td>4</td>\n",
              "      <td>0</td>\n",
              "      <td>2</td>\n",
              "    </tr>\n",
              "    <tr>\n",
              "      <th>spider</th>\n",
              "      <td>8</td>\n",
              "      <td>0</td>\n",
              "      <td>1</td>\n",
              "    </tr>\n",
              "    <tr>\n",
              "      <th>fish</th>\n",
              "      <td>0</td>\n",
              "      <td>0</td>\n",
              "      <td>8</td>\n",
              "    </tr>\n",
              "  </tbody>\n",
              "</table>\n",
              "</div>"
            ],
            "text/plain": [
              "        num_legs  num_wings  num_specimen_seen\n",
              "falcon         2          2                 10\n",
              "dog            4          0                  2\n",
              "spider         8          0                  1\n",
              "fish           0          0                  8"
            ]
          },
          "metadata": {
            "tags": []
          },
          "execution_count": 19
        }
      ]
    },
    {
      "cell_type": "code",
      "metadata": {
        "id": "YoIApPbcgVQB",
        "colab_type": "code",
        "colab": {
          "base_uri": "https://localhost:8080/",
          "height": 85
        },
        "outputId": "ebdccd52-6a2f-4153-ee10-e28cc32428bc"
      },
      "source": [
        "df['num_legs'].sample(n=3)"
      ],
      "execution_count": 12,
      "outputs": [
        {
          "output_type": "execute_result",
          "data": {
            "text/plain": [
              "dog       4\n",
              "falcon    2\n",
              "fish      0\n",
              "Name: num_legs, dtype: int64"
            ]
          },
          "metadata": {
            "tags": []
          },
          "execution_count": 12
        }
      ]
    },
    {
      "cell_type": "code",
      "metadata": {
        "id": "ZoGe7MAogV9O",
        "colab_type": "code",
        "colab": {
          "base_uri": "https://localhost:8080/",
          "height": 85
        },
        "outputId": "4d80e473-31a1-4de2-abb2-ceee6b0b37f8"
      },
      "source": [
        "df['num_legs'].sample(n=3)"
      ],
      "execution_count": 13,
      "outputs": [
        {
          "output_type": "execute_result",
          "data": {
            "text/plain": [
              "fish      0\n",
              "dog       4\n",
              "falcon    2\n",
              "Name: num_legs, dtype: int64"
            ]
          },
          "metadata": {
            "tags": []
          },
          "execution_count": 13
        }
      ]
    },
    {
      "cell_type": "code",
      "metadata": {
        "id": "fQqeaymnf_fH",
        "colab_type": "code",
        "colab": {
          "base_uri": "https://localhost:8080/",
          "height": 85
        },
        "outputId": "797605bf-71a8-4c2b-bcc2-bdb5b061c190"
      },
      "source": [
        "df['num_legs'].sample(n=3, random_state=1)"
      ],
      "execution_count": 15,
      "outputs": [
        {
          "output_type": "execute_result",
          "data": {
            "text/plain": [
              "fish      0\n",
              "spider    8\n",
              "falcon    2\n",
              "Name: num_legs, dtype: int64"
            ]
          },
          "metadata": {
            "tags": []
          },
          "execution_count": 15
        }
      ]
    },
    {
      "cell_type": "code",
      "metadata": {
        "id": "bQm0ibWPgaxN",
        "colab_type": "code",
        "colab": {
          "base_uri": "https://localhost:8080/",
          "height": 85
        },
        "outputId": "9294d2f1-c7eb-4aa2-c0f6-eeebff3dbac5"
      },
      "source": [
        "# reproducible\n",
        "df['num_legs'].sample(n=3, random_state=1)"
      ],
      "execution_count": 17,
      "outputs": [
        {
          "output_type": "execute_result",
          "data": {
            "text/plain": [
              "fish      0\n",
              "spider    8\n",
              "falcon    2\n",
              "Name: num_legs, dtype: int64"
            ]
          },
          "metadata": {
            "tags": []
          },
          "execution_count": 17
        }
      ]
    },
    {
      "cell_type": "code",
      "metadata": {
        "id": "JnMcLLYogfyE",
        "colab_type": "code",
        "colab": {
          "base_uri": "https://localhost:8080/",
          "height": 85
        },
        "outputId": "97234dac-be24-4fb6-86e9-f1e9913a733c"
      },
      "source": [
        "# non-reproducible\n",
        "df['num_legs'].sample(n=3)"
      ],
      "execution_count": 18,
      "outputs": [
        {
          "output_type": "execute_result",
          "data": {
            "text/plain": [
              "falcon    2\n",
              "spider    8\n",
              "dog       4\n",
              "Name: num_legs, dtype: int64"
            ]
          },
          "metadata": {
            "tags": []
          },
          "execution_count": 18
        }
      ]
    },
    {
      "cell_type": "markdown",
      "metadata": {
        "id": "RmuMgHl7hpul",
        "colab_type": "text"
      },
      "source": [
        "## If you set Numpy random seed, you don't need to set Pandas random_state separately.\n"
      ]
    },
    {
      "cell_type": "code",
      "metadata": {
        "id": "3Jaa_pX8it-V",
        "colab_type": "code",
        "colab": {
          "base_uri": "https://localhost:8080/",
          "height": 221
        },
        "outputId": "d55d408b-f98a-48ed-97a5-91e933ba53d3"
      },
      "source": [
        "s = pd.Series(np.arange(100))\n",
        "s"
      ],
      "execution_count": 26,
      "outputs": [
        {
          "output_type": "execute_result",
          "data": {
            "text/plain": [
              "0      0\n",
              "1      1\n",
              "2      2\n",
              "3      3\n",
              "4      4\n",
              "      ..\n",
              "95    95\n",
              "96    96\n",
              "97    97\n",
              "98    98\n",
              "99    99\n",
              "Length: 100, dtype: int64"
            ]
          },
          "metadata": {
            "tags": []
          },
          "execution_count": 26
        }
      ]
    },
    {
      "cell_type": "code",
      "metadata": {
        "id": "oorXRsVyhZxQ",
        "colab_type": "code",
        "colab": {
          "base_uri": "https://localhost:8080/",
          "height": 85
        },
        "outputId": "3b1ed947-8855-4e61-ea4a-199c05d65083"
      },
      "source": [
        "np.random.seed(42)\n",
        "\n",
        "s.sample(n=3)"
      ],
      "execution_count": 27,
      "outputs": [
        {
          "output_type": "execute_result",
          "data": {
            "text/plain": [
              "83    83\n",
              "53    53\n",
              "70    70\n",
              "dtype: int64"
            ]
          },
          "metadata": {
            "tags": []
          },
          "execution_count": 27
        }
      ]
    },
    {
      "cell_type": "code",
      "metadata": {
        "id": "-gS1qsSCiPDW",
        "colab_type": "code",
        "colab": {
          "base_uri": "https://localhost:8080/",
          "height": 85
        },
        "outputId": "231edc2d-c15e-411b-bcd1-8f7c2b41727f"
      },
      "source": [
        "s.sample(n=3, random_state=42)"
      ],
      "execution_count": 28,
      "outputs": [
        {
          "output_type": "execute_result",
          "data": {
            "text/plain": [
              "83    83\n",
              "53    53\n",
              "70    70\n",
              "dtype: int64"
            ]
          },
          "metadata": {
            "tags": []
          },
          "execution_count": 28
        }
      ]
    },
    {
      "cell_type": "code",
      "metadata": {
        "id": "OHy9C1tviVMQ",
        "colab_type": "code",
        "colab": {
          "base_uri": "https://localhost:8080/",
          "height": 85
        },
        "outputId": "10935fc2-9427-4a7d-ba90-95be6c389c56"
      },
      "source": [
        "np.random.seed(2020)\n",
        "\n",
        "s.sample(n=3)"
      ],
      "execution_count": 29,
      "outputs": [
        {
          "output_type": "execute_result",
          "data": {
            "text/plain": [
              "43    43\n",
              "12    12\n",
              "93    93\n",
              "dtype: int64"
            ]
          },
          "metadata": {
            "tags": []
          },
          "execution_count": 29
        }
      ]
    },
    {
      "cell_type": "code",
      "metadata": {
        "id": "PrpP7sGSicoY",
        "colab_type": "code",
        "colab": {
          "base_uri": "https://localhost:8080/",
          "height": 85
        },
        "outputId": "93751ea2-252d-4a70-ab60-e4241405ab08"
      },
      "source": [
        "s.sample(n=3, random_state=2020)"
      ],
      "execution_count": 30,
      "outputs": [
        {
          "output_type": "execute_result",
          "data": {
            "text/plain": [
              "43    43\n",
              "12    12\n",
              "93    93\n",
              "dtype: int64"
            ]
          },
          "metadata": {
            "tags": []
          },
          "execution_count": 30
        }
      ]
    }
  ]
}