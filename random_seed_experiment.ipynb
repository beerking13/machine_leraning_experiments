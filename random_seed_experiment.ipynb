{
  "nbformat": 4,
  "nbformat_minor": 0,
  "metadata": {
    "colab": {
      "name": "random_seed_experiment.ipynb",
      "provenance": [],
      "authorship_tag": "ABX9TyO0CllqL32eQM5YDkrp0lp4",
      "include_colab_link": true
    },
    "kernelspec": {
      "name": "python3",
      "display_name": "Python 3"
    }
  },
  "cells": [
    {
      "cell_type": "markdown",
      "metadata": {
        "id": "view-in-github",
        "colab_type": "text"
      },
      "source": [
        "<a href=\"https://colab.research.google.com/github/si1242/machine_leraning_experiments/blob/master/random_seed_experiment.ipynb\" target=\"_parent\"><img src=\"https://colab.research.google.com/assets/colab-badge.svg\" alt=\"Open In Colab\"/></a>"
      ]
    },
    {
      "cell_type": "markdown",
      "metadata": {
        "id": "KytYpTcheAma",
        "colab_type": "text"
      },
      "source": [
        "# A Simple experiment for ML Random Seed\n"
      ]
    },
    {
      "cell_type": "code",
      "metadata": {
        "id": "ZG5gaZNMd-ud",
        "colab_type": "code",
        "colab": {}
      },
      "source": [
        "import numpy as np\n",
        "import pandas as pd"
      ],
      "execution_count": 0,
      "outputs": []
    },
    {
      "cell_type": "code",
      "metadata": {
        "id": "cPDuhxUsern5",
        "colab_type": "code",
        "colab": {}
      },
      "source": [
        "# fix Numpy seed\n",
        "np.random.seed(42)"
      ],
      "execution_count": 0,
      "outputs": []
    },
    {
      "cell_type": "markdown",
      "metadata": {
        "id": "kv-VZgBUfkIr",
        "colab_type": "text"
      },
      "source": [
        "## You need to fix seed again after execute np.random method"
      ]
    },
    {
      "cell_type": "code",
      "metadata": {
        "id": "U5QKo6Dce1Pv",
        "colab_type": "code",
        "colab": {
          "base_uri": "https://localhost:8080/",
          "height": 34
        },
        "outputId": "9d759868-f011-4a6d-959f-31b0084d3b8f"
      },
      "source": [
        "print(np.random.randint(0, 1000, 10))"
      ],
      "execution_count": 44,
      "outputs": [
        {
          "output_type": "stream",
          "text": [
            "[102 435 860 270 106  71 700  20 614 121]\n"
          ],
          "name": "stdout"
        }
      ]
    },
    {
      "cell_type": "code",
      "metadata": {
        "id": "8RlFJErifGDs",
        "colab_type": "code",
        "colab": {
          "base_uri": "https://localhost:8080/",
          "height": 34
        },
        "outputId": "25379f71-d959-42c0-ffb5-42dc8a125fb6"
      },
      "source": [
        "print(np.random.randint(0, 1000, 10))"
      ],
      "execution_count": 45,
      "outputs": [
        {
          "output_type": "stream",
          "text": [
            "[466 214 330 458  87 372  99 871 663 130]\n"
          ],
          "name": "stdout"
        }
      ]
    },
    {
      "cell_type": "code",
      "metadata": {
        "id": "YMeN0eCSfH0-",
        "colab_type": "code",
        "colab": {
          "base_uri": "https://localhost:8080/",
          "height": 34
        },
        "outputId": "9a65a15d-0faa-4617-fe1e-73adc82b2510"
      },
      "source": [
        "# You need to fix seed again after np.random method\n",
        "np.random.seed(42)\n",
        "print(np.random.randint(0, 1000, 10))"
      ],
      "execution_count": 46,
      "outputs": [
        {
          "output_type": "stream",
          "text": [
            "[102 435 860 270 106  71 700  20 614 121]\n"
          ],
          "name": "stdout"
        }
      ]
    },
    {
      "cell_type": "markdown",
      "metadata": {
        "id": "gPjmhtTdgnH6",
        "colab_type": "text"
      },
      "source": [
        "## In Pandas, you need to set the seed value each time"
      ]
    },
    {
      "cell_type": "code",
      "metadata": {
        "id": "kIYuBDHofbAx",
        "colab_type": "code",
        "colab": {
          "base_uri": "https://localhost:8080/",
          "height": 173
        },
        "outputId": "ce0fd2e3-5be1-4737-98d4-ab92f0b1be64"
      },
      "source": [
        "df = pd.DataFrame({'num_legs': [2, 4, 8, 0],\n",
        "                   'num_wings': [2, 0, 0, 0],\n",
        "                   'num_specimen_seen': [10, 2, 1, 8]},\n",
        "                  index=['falcon', 'dog', 'spider', 'fish'])\n",
        "df"
      ],
      "execution_count": 47,
      "outputs": [
        {
          "output_type": "execute_result",
          "data": {
            "text/html": [
              "<div>\n",
              "<style scoped>\n",
              "    .dataframe tbody tr th:only-of-type {\n",
              "        vertical-align: middle;\n",
              "    }\n",
              "\n",
              "    .dataframe tbody tr th {\n",
              "        vertical-align: top;\n",
              "    }\n",
              "\n",
              "    .dataframe thead th {\n",
              "        text-align: right;\n",
              "    }\n",
              "</style>\n",
              "<table border=\"1\" class=\"dataframe\">\n",
              "  <thead>\n",
              "    <tr style=\"text-align: right;\">\n",
              "      <th></th>\n",
              "      <th>num_legs</th>\n",
              "      <th>num_wings</th>\n",
              "      <th>num_specimen_seen</th>\n",
              "    </tr>\n",
              "  </thead>\n",
              "  <tbody>\n",
              "    <tr>\n",
              "      <th>falcon</th>\n",
              "      <td>2</td>\n",
              "      <td>2</td>\n",
              "      <td>10</td>\n",
              "    </tr>\n",
              "    <tr>\n",
              "      <th>dog</th>\n",
              "      <td>4</td>\n",
              "      <td>0</td>\n",
              "      <td>2</td>\n",
              "    </tr>\n",
              "    <tr>\n",
              "      <th>spider</th>\n",
              "      <td>8</td>\n",
              "      <td>0</td>\n",
              "      <td>1</td>\n",
              "    </tr>\n",
              "    <tr>\n",
              "      <th>fish</th>\n",
              "      <td>0</td>\n",
              "      <td>0</td>\n",
              "      <td>8</td>\n",
              "    </tr>\n",
              "  </tbody>\n",
              "</table>\n",
              "</div>"
            ],
            "text/plain": [
              "        num_legs  num_wings  num_specimen_seen\n",
              "falcon         2          2                 10\n",
              "dog            4          0                  2\n",
              "spider         8          0                  1\n",
              "fish           0          0                  8"
            ]
          },
          "metadata": {
            "tags": []
          },
          "execution_count": 47
        }
      ]
    },
    {
      "cell_type": "code",
      "metadata": {
        "id": "YoIApPbcgVQB",
        "colab_type": "code",
        "colab": {
          "base_uri": "https://localhost:8080/",
          "height": 85
        },
        "outputId": "96131ec7-e638-4beb-a5b6-a8730feac901"
      },
      "source": [
        "df['num_legs'].sample(n=3)"
      ],
      "execution_count": 48,
      "outputs": [
        {
          "output_type": "execute_result",
          "data": {
            "text/plain": [
              "dog       4\n",
              "falcon    2\n",
              "fish      0\n",
              "Name: num_legs, dtype: int64"
            ]
          },
          "metadata": {
            "tags": []
          },
          "execution_count": 48
        }
      ]
    },
    {
      "cell_type": "code",
      "metadata": {
        "id": "ZoGe7MAogV9O",
        "colab_type": "code",
        "colab": {
          "base_uri": "https://localhost:8080/",
          "height": 85
        },
        "outputId": "823bdfeb-f810-4f65-f094-20869152d33b"
      },
      "source": [
        "df['num_legs'].sample(n=3)"
      ],
      "execution_count": 49,
      "outputs": [
        {
          "output_type": "execute_result",
          "data": {
            "text/plain": [
              "fish      0\n",
              "dog       4\n",
              "falcon    2\n",
              "Name: num_legs, dtype: int64"
            ]
          },
          "metadata": {
            "tags": []
          },
          "execution_count": 49
        }
      ]
    },
    {
      "cell_type": "code",
      "metadata": {
        "id": "fQqeaymnf_fH",
        "colab_type": "code",
        "colab": {
          "base_uri": "https://localhost:8080/",
          "height": 85
        },
        "outputId": "011b5138-3104-43d0-c758-9180a63901bd"
      },
      "source": [
        "df['num_legs'].sample(n=3, random_state=1)"
      ],
      "execution_count": 50,
      "outputs": [
        {
          "output_type": "execute_result",
          "data": {
            "text/plain": [
              "fish      0\n",
              "spider    8\n",
              "falcon    2\n",
              "Name: num_legs, dtype: int64"
            ]
          },
          "metadata": {
            "tags": []
          },
          "execution_count": 50
        }
      ]
    },
    {
      "cell_type": "code",
      "metadata": {
        "id": "bQm0ibWPgaxN",
        "colab_type": "code",
        "colab": {
          "base_uri": "https://localhost:8080/",
          "height": 85
        },
        "outputId": "6a883a88-3aed-4ad3-9cf9-8a7e19e22f52"
      },
      "source": [
        "# reproducible\n",
        "df['num_legs'].sample(n=3, random_state=1)"
      ],
      "execution_count": 51,
      "outputs": [
        {
          "output_type": "execute_result",
          "data": {
            "text/plain": [
              "fish      0\n",
              "spider    8\n",
              "falcon    2\n",
              "Name: num_legs, dtype: int64"
            ]
          },
          "metadata": {
            "tags": []
          },
          "execution_count": 51
        }
      ]
    },
    {
      "cell_type": "code",
      "metadata": {
        "id": "JnMcLLYogfyE",
        "colab_type": "code",
        "colab": {
          "base_uri": "https://localhost:8080/",
          "height": 85
        },
        "outputId": "137311d7-1828-43fb-b571-f0c2fff8e9da"
      },
      "source": [
        "# non-reproducible\n",
        "df['num_legs'].sample(n=3)"
      ],
      "execution_count": 52,
      "outputs": [
        {
          "output_type": "execute_result",
          "data": {
            "text/plain": [
              "falcon    2\n",
              "dog       4\n",
              "spider    8\n",
              "Name: num_legs, dtype: int64"
            ]
          },
          "metadata": {
            "tags": []
          },
          "execution_count": 52
        }
      ]
    },
    {
      "cell_type": "markdown",
      "metadata": {
        "id": "RmuMgHl7hpul",
        "colab_type": "text"
      },
      "source": [
        "## If you set Numpy random seed, you don't need to set Pandas random_state separately.\n"
      ]
    },
    {
      "cell_type": "code",
      "metadata": {
        "id": "3Jaa_pX8it-V",
        "colab_type": "code",
        "colab": {
          "base_uri": "https://localhost:8080/",
          "height": 221
        },
        "outputId": "cc9e7602-c942-4cd4-813f-b521d8c00b06"
      },
      "source": [
        "s = pd.Series(np.arange(100))\n",
        "s"
      ],
      "execution_count": 53,
      "outputs": [
        {
          "output_type": "execute_result",
          "data": {
            "text/plain": [
              "0      0\n",
              "1      1\n",
              "2      2\n",
              "3      3\n",
              "4      4\n",
              "      ..\n",
              "95    95\n",
              "96    96\n",
              "97    97\n",
              "98    98\n",
              "99    99\n",
              "Length: 100, dtype: int64"
            ]
          },
          "metadata": {
            "tags": []
          },
          "execution_count": 53
        }
      ]
    },
    {
      "cell_type": "code",
      "metadata": {
        "id": "oorXRsVyhZxQ",
        "colab_type": "code",
        "colab": {
          "base_uri": "https://localhost:8080/",
          "height": 85
        },
        "outputId": "d74b9952-88a0-450f-f260-6570717d7dd9"
      },
      "source": [
        "np.random.seed(42)\n",
        "\n",
        "s.sample(n=3)"
      ],
      "execution_count": 54,
      "outputs": [
        {
          "output_type": "execute_result",
          "data": {
            "text/plain": [
              "83    83\n",
              "53    53\n",
              "70    70\n",
              "dtype: int64"
            ]
          },
          "metadata": {
            "tags": []
          },
          "execution_count": 54
        }
      ]
    },
    {
      "cell_type": "code",
      "metadata": {
        "id": "-gS1qsSCiPDW",
        "colab_type": "code",
        "colab": {
          "base_uri": "https://localhost:8080/",
          "height": 85
        },
        "outputId": "a721486a-2ef5-4b25-ef36-d9489f05d2c1"
      },
      "source": [
        "s.sample(n=3, random_state=42)"
      ],
      "execution_count": 55,
      "outputs": [
        {
          "output_type": "execute_result",
          "data": {
            "text/plain": [
              "83    83\n",
              "53    53\n",
              "70    70\n",
              "dtype: int64"
            ]
          },
          "metadata": {
            "tags": []
          },
          "execution_count": 55
        }
      ]
    },
    {
      "cell_type": "code",
      "metadata": {
        "id": "OHy9C1tviVMQ",
        "colab_type": "code",
        "colab": {
          "base_uri": "https://localhost:8080/",
          "height": 153
        },
        "outputId": "05e06cc3-5d7d-4c27-975b-ae39b4a9f31f"
      },
      "source": [
        "np.random.seed(2020)\n",
        "\n",
        "print(s.sample(n=3))\n",
        "\n",
        "print(s.sample(n=3))"
      ],
      "execution_count": 56,
      "outputs": [
        {
          "output_type": "stream",
          "text": [
            "43    43\n",
            "12    12\n",
            "93    93\n",
            "dtype: int64\n",
            "79    79\n",
            "65    65\n",
            "55    55\n",
            "dtype: int64\n"
          ],
          "name": "stdout"
        }
      ]
    },
    {
      "cell_type": "code",
      "metadata": {
        "id": "PrpP7sGSicoY",
        "colab_type": "code",
        "colab": {
          "base_uri": "https://localhost:8080/",
          "height": 221
        },
        "outputId": "d3d0febf-4a75-4fe0-8520-5d5cd1541de3"
      },
      "source": [
        "np.random.seed(2020)\n",
        "print(s.sample(n=3, random_state=2020))\n",
        "print(s.sample(n=3))\n",
        "print(s.sample(n=3))"
      ],
      "execution_count": 57,
      "outputs": [
        {
          "output_type": "stream",
          "text": [
            "43    43\n",
            "12    12\n",
            "93    93\n",
            "dtype: int64\n",
            "43    43\n",
            "12    12\n",
            "93    93\n",
            "dtype: int64\n",
            "79    79\n",
            "65    65\n",
            "55    55\n",
            "dtype: int64\n"
          ],
          "name": "stdout"
        }
      ]
    },
    {
      "cell_type": "code",
      "metadata": {
        "id": "8Fcyqt8QmXvt",
        "colab_type": "code",
        "colab": {
          "base_uri": "https://localhost:8080/",
          "height": 289
        },
        "outputId": "d54ae076-21b1-4add-ed04-e18beb2d4624"
      },
      "source": [
        "s = pd.Series(np.arange(100))\n",
        "np.random.seed(42)\n",
        "print(s.sample(n=3)) # seed=42\n",
        "print(s.sample(n=3)) # seed!=42\n",
        "\n",
        "print(s.sample(n=3, random_state=42))\n",
        "print(s.sample(n=3, random_state=42))"
      ],
      "execution_count": 58,
      "outputs": [
        {
          "output_type": "stream",
          "text": [
            "83    83\n",
            "53    53\n",
            "70    70\n",
            "dtype: int64\n",
            "79    79\n",
            "37    37\n",
            "65    65\n",
            "dtype: int64\n",
            "83    83\n",
            "53    53\n",
            "70    70\n",
            "dtype: int64\n",
            "83    83\n",
            "53    53\n",
            "70    70\n",
            "dtype: int64\n"
          ],
          "name": "stdout"
        }
      ]
    },
    {
      "cell_type": "code",
      "metadata": {
        "id": "TdBnUyj5rTPC",
        "colab_type": "code",
        "colab": {}
      },
      "source": [
        ""
      ],
      "execution_count": 0,
      "outputs": []
    }
  ]
}